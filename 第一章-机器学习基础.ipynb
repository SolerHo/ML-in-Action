{
 "cells": [
  {
   "cell_type": "markdown",
   "metadata": {},
   "source": [
    "# 第一章 机器学习基础\n",
    "\n",
    "## 什么是机器学习？\n",
    "机器学习横跨计算机科学、工程技术和统计学等多个学科，多个学科的综合知识。\n",
    "\n",
    "机器学习可以帮助从大量的数据中，抽取有用的信息。"
   ]
  },
  {
   "cell_type": "code",
   "execution_count": null,
   "metadata": {},
   "outputs": [],
   "source": []
  },
  {
   "cell_type": "markdown",
   "metadata": {},
   "source": [
    "## 关键术语\n",
    "\n",
    "一般作为评测标准的属性，也叫做特征。\n",
    "\n",
    "算法训练：就是学习如何进行分类\n",
    "\n",
    "\n",
    "### 训练集\n",
    "训练集用于训练机器学习算法的数据样本集合。\n",
    "\n",
    "对于每个训练集中包含 `m` 个训练样本，每个训练样本中包含 `n` 个特征，`一个` 目标变量。\n",
    "\n",
    "### 目标变量\n",
    "机器学习算法的预测结果。\n",
    "\n",
    "### 分类算法\n",
    "目标变量类型是 `有监督` 算法。必须是有 `标签`。\n",
    "\n",
    "训练样本集必须知道 `目标变量` 的值。以便于ML算法可以发现`特征`和`目标变量`之间的关系。\n",
    "\n",
    "### 注意点\n",
    "特征或者属性通常是训练样本集的列，它们是独立测量得到的结果，多个特征联系在一起共同组成一个训练样本。\n",
    "\n",
    "\n"
   ]
  },
  {
   "cell_type": "code",
   "execution_count": null,
   "metadata": {},
   "outputs": [],
   "source": []
  },
  {
   "cell_type": "markdown",
   "metadata": {},
   "source": [
    "## 机器学习的主要任务\n",
    "机器学习的主要任务 ———— 将实例数据划分到合适的`分类`中。\n",
    "\n",
    "另一项任务 ———— `回归`，用于预测数值型数据。\n",
    "\n",
    "**分类** 和 **回归** 属于 **有监督学习**。\n",
    "\n",
    "### 监督学习\n",
    "此类型算法必须知道预测什么，即目标变量的分类信息。\n",
    "\n",
    "### 无监督学习\n",
    "数据没有类别信息，也不会给定目标值。\n",
    "\n",
    "#### 聚类\n",
    "将数据集合分成由类似的对象组成的多个类的过程。\n",
    "\n"
   ]
  },
  {
   "cell_type": "code",
   "execution_count": null,
   "metadata": {},
   "outputs": [],
   "source": []
  },
  {
   "cell_type": "markdown",
   "metadata": {},
   "source": [
    "## 如何选择合适的算法？\n",
    "主要思考两个问题：\n",
    "\n",
    "* 使用ML算法的`目的`，想要算法完成何种任务。\n",
    "    + 考虑方面：预测目标变量的值，选择有监督或者无监督学习。\n",
    "    + 选择学习类型之后，就确定目标变量的类别，然后根据离散型还是连续型选择对应的分类算法或者是回归算法。\n",
    "* 需要分析或收集的数据是什么？\n",
    "\n",
    "### 数据问题\n",
    "数据的一些特性\n",
    "* 特征值是离散型还是连续型变量。\n",
    "* 特征值中是否存在缺失的值，分析造成缺失的原因。\n",
    "* 数据中是否存在异常值。\n",
    "* 特征发生的频率\n"
   ]
  },
  {
   "cell_type": "code",
   "execution_count": null,
   "metadata": {},
   "outputs": [],
   "source": []
  },
  {
   "cell_type": "markdown",
   "metadata": {},
   "source": [
    "## 开发机器学习应用程序的步骤\n",
    "\n",
    "### 1.收集数据\n",
    "获取渠道：\n",
    "- 爬虫\n",
    "- RSS或者API\n",
    "- 设备发送来的实测信息\n",
    "- 公开的数据源\n",
    "\n",
    "\n",
    "### 2.准备输入数据\n",
    "\n",
    "注意点：确保数据格式符合要求。例如Python的是List。\n",
    "\n",
    "### 3.分析输入数据\n",
    "\n",
    "主要作用：确保数据集中没有垃圾数据。\n",
    "\n",
    "### 4.训练算法\n",
    "\n",
    "### 5.测试算法\n",
    "\n",
    "### 6.使用算法"
   ]
  },
  {
   "cell_type": "code",
   "execution_count": null,
   "metadata": {},
   "outputs": [],
   "source": []
  }
 ],
 "metadata": {
  "kernelspec": {
   "display_name": "Python 3",
   "language": "python",
   "name": "python3"
  },
  "language_info": {
   "codemirror_mode": {
    "name": "ipython",
    "version": 3
   },
   "file_extension": ".py",
   "mimetype": "text/x-python",
   "name": "python",
   "nbconvert_exporter": "python",
   "pygments_lexer": "ipython3",
   "version": "3.7.6"
  }
 },
 "nbformat": 4,
 "nbformat_minor": 4
}
